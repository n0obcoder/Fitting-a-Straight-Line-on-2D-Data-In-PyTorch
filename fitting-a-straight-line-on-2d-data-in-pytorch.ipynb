{
 "cells": [
  {
   "cell_type": "markdown",
   "metadata": {},
   "source": [
    "# Fitting a Straight Line on 2D Data in PyTorch\n",
    "\n",
    "The objective here is to fit a straight line on a synthetic 2-dimensional or 2D data. \n",
    "\n",
    "This is known as a **Linear Regression Problem**.\n",
    "\n",
    "*Links for the Medium Blog and the Github Repository are mentioned at the end of this notebook !*"
   ]
  },
  {
   "cell_type": "code",
   "execution_count": 1,
   "metadata": {},
   "outputs": [
    {
     "data": {
      "text/plain": [
       "<torch._C.Generator at 0x7fe0380c4070>"
      ]
     },
     "execution_count": 1,
     "metadata": {},
     "output_type": "execute_result"
    }
   ],
   "source": [
    "# Importing the bare necessities...\n",
    "seed_for_reproducibility = 3333\n",
    "import numpy as np\n",
    "np.random.seed(seed_for_reproducibility)\n",
    "import random\n",
    "random.seed(seed_for_reproducibility)\n",
    "from matplotlib import pyplot as plt\n",
    "%matplotlib inline\n",
    "\n",
    "import torch\n",
    "torch.manual_seed(seed_for_reproducibility)"
   ]
  },
  {
   "cell_type": "markdown",
   "metadata": {
    "_cell_guid": "b1076dfc-b9ad-4769-8c92-a6c4dae69d19",
    "_uuid": "8f2839f25d086af736a60e9eeb907d3b93b6e0e5"
   },
   "source": [
    "> ## STEP 1: Generating Synthetic 2D data\n",
    "\n",
    "> In order to find a straight line that fits a given data, we first need to generate the data itself. We are going to generate the synthetic data in such a way that the data points roughly lie on a stright line. We are going to do this by using some predefined **m** (slope) and **c** (intercept)."
   ]
  },
  {
   "cell_type": "code",
   "execution_count": 2,
   "metadata": {
    "_cell_guid": "79c7e3d0-c299-4dcb-8224-4455121ee9b0",
    "_uuid": "d629ff2d2480ee46fbb7e2d37f6b5fab8052498a"
   },
   "outputs": [
    {
     "name": "stdout",
     "output_type": "stream",
     "text": [
      "\n",
      "m_synthetic: -0.67\n",
      "c_synthetic: 6\n",
      "\n",
      "Following are the extreme ends of the synthetic data points...\n",
      "x_min, x_max: -2022, 1966\n",
      "y_min, y_max: -1392.3200000000002, 1352.16\n"
     ]
    }
   ],
   "source": [
    "# Defining the range of 'x', the independent variable\n",
    "x_range = [-2000, 2000]\n",
    "\n",
    "# Defining the extent of noise, which would be added to both the dependent as well as the independent variable\n",
    "deviation = 100\n",
    "\n",
    "# For the data points to roughly fall on a staright line, we need to define the slope and the intercept of that line\n",
    "# Let's intoduce some randomness in the slope and intercept selection process\n",
    "m_synthetic = random.randint(-100, 100)/100. # m_synthetic is real number from the set(-1.0, -0.99, -0.98 ...., 0.98, 0.99, 1.0)\n",
    "c_synthetic = random.randint(-10, 10)        # c_synthetic is an integer from the set(-10, -9, -8 ..., 8, 9, 10)\n",
    "\n",
    "print('\\nm_synthetic: {}'.format(m_synthetic))\n",
    "print('c_synthetic: {}'.format(c_synthetic))\n",
    "\n",
    "# Defining the number of data points to be generated\n",
    "num_points = 100\n",
    "\n",
    "# Let's generate the synthetic data points\n",
    "x_list = []\n",
    "y_list = []\n",
    "for _ in range(num_points):\n",
    "    \n",
    "    # Selecting a random integer from the predefined range\n",
    "    x = random.randint(x_range[0] , x_range[1])\n",
    "    \n",
    "    # Calculating the dependent valiable 'y' using the formula of a straight line y = mx + c\n",
    "    y = m_synthetic*x + c_synthetic\n",
    "    \n",
    "    # Randomly choosing the deviation (noise) for both the dependent as well as the independent variable, so that the dataset becomes a little noisy\n",
    "    deviation_x = random.randint(-deviation , deviation)\n",
    "    deviation_y = random.randint(-deviation , deviation)\n",
    "    \n",
    "    # Finally, appending the noisy data points in the respective lists\n",
    "    x_list.append(x + deviation_x)\n",
    "    y_list.append(y + deviation_y)\n",
    "\n",
    "x_min, y_min, x_max, y_max = min(x_list) , min(y_list) , max(x_list) , max(y_list)\n",
    "print('\\nFollowing are the extreme ends of the synthetic data points...')\n",
    "print('x_min, x_max: {}, {}'.format(x_min, x_max))\n",
    "print('y_min, y_max: {}, {}'.format(y_min, y_max))"
   ]
  },
  {
   "cell_type": "code",
   "execution_count": 3,
   "metadata": {},
   "outputs": [
    {
     "data": {
      "image/png": "[encoded data removed]",
      "text/plain": [
       "<Figure size 432x288 with 1 Axes>"
      ]
     },
     "metadata": {
      "needs_background": "light"
     },
     "output_type": "display_data"
    }
   ],
   "source": [
    "# Let's now visualize how the synthetic data looks like \n",
    "plt.scatter(x_list, y_list , color = 'cyan')\n",
    "plt.plot((x_min, x_max), (m_synthetic*x_min + c_synthetic, m_synthetic*x_max + c_synthetic), color = 'r')\n",
    "plt.title('Synthetic Data with m = {} and c = {}'.format(m_synthetic, c_synthetic))\n",
    "plt.xlabel(\"Independent Variable 'x'\")\n",
    "plt.ylabel(\"Dependent Variable 'y'\")\n",
    "plt.savefig('synthetic_m_and_c.jpg')"
   ]
  },
  {
   "cell_type": "markdown",
   "metadata": {},
   "source": [
    "Our task here, is to find out the equation of a straight line which best fits all the data points !\n",
    "\n",
    "In other words, we have to find the slope and the intercept of a line, which would give us the line that sits at the center of the distribution of the data points.\n",
    "\n",
    "Since this is a Linear Regression Problem, we want to find the value of all the required parameters (slope m and intercept c in our case because the data lies in a 2D space)\n",
    "\n",
    "Had the data been higher-dimensional, we would have to solve for more parameteres."
   ]
  },
  {
   "cell_type": "markdown",
   "metadata": {},
   "source": [
    "## STEP 2: Define the model architecture\n",
    "\n",
    "We are going to use PyTorch to solve this Linear Regression Problem.\n",
    "We need a very simple model which takes in a single scalar input and spits out some single scalar output."
   ]
  },
  {
   "cell_type": "code",
   "execution_count": 4,
   "metadata": {},
   "outputs": [],
   "source": [
    "# Defining the model architecture.\n",
    "class LinearRegressionModel(torch.nn.Module): \n",
    "    def __init__(self): \n",
    "        super(LinearRegressionModel, self).__init__() \n",
    "        self.linear = torch.nn.Linear(1, 1)  # this layer of the model has a single neuron, that takes in one scalar input and gives out one scalar output. \n",
    "  \n",
    "    def forward(self, x): \n",
    "        y_pred = self.linear(x) \n",
    "        return y_pred \n",
    "\n",
    "# Creating the model\n",
    "model = LinearRegressionModel()"
   ]
  },
  {
   "cell_type": "code",
   "execution_count": 5,
   "metadata": {},
   "outputs": [
    {
     "name": "stdout",
     "output_type": "stream",
     "text": [
      "LinearRegressionModel(\n",
      "  (linear): Linear(in_features=1, out_features=1, bias=True)\n",
      ")\n"
     ]
    }
   ],
   "source": [
    "# We can print the 'model' to see it's architecture\n",
    "print(model)"
   ]
  },
  {
   "cell_type": "markdown",
   "metadata": {},
   "source": [
    "Once, we have created the model, let's check out the paramters that we have in it.\n",
    "\n",
    "There are going to be some learnable parameters in the model, which are randomly initialized at the beginning.\n",
    "\n",
    "This is the how the initial parameters look like at the initial stage..."
   ]
  },
  {
   "cell_type": "code",
   "execution_count": 6,
   "metadata": {},
   "outputs": [
    {
     "name": "stdout",
     "output_type": "stream",
     "text": [
      "name           : linear.weight\n",
      "parameter      : -0.19329047203063965\n",
      "learnable      : True\n",
      "parameter.shape: torch.Size([1, 1])\n",
      "---------------------------------\n",
      "name           : linear.bias\n",
      "parameter      : -0.36674630641937256\n",
      "learnable      : True\n",
      "parameter.shape: torch.Size([1])\n",
      "---------------------------------\n"
     ]
    }
   ],
   "source": [
    "for name, parameter in model.named_parameters():\n",
    "    print('name           : {}'.format(name))\n",
    "    print('parameter      : {}'.format(parameter.item()))\n",
    "    print('learnable      : {}'.format(parameter.requires_grad))\n",
    "    print('parameter.shape: {}'.format(parameter.shape))\n",
    "    print('---------------------------------')"
   ]
  },
  {
   "cell_type": "markdown",
   "metadata": {},
   "source": [
    "Note that the parameter's initialized values are not at all, near the m_synthetic and c_synthetic values, which have been actually used to synthesize the data points.\n",
    "\n",
    "But as we train the model, these values would approach to the values of m_synthetic and c_synthetic ! \n",
    "\n",
    "We will see this at the end of this notebook."
   ]
  },
  {
   "cell_type": "markdown",
   "metadata": {},
   "source": [
    "## STEP 3: Defining a Loss Fucntion and an Optimizer\n",
    "\n",
    "There must be a metric which would let us know how well is our model fitting on the given data. \n",
    "\n",
    "That is exactly what a **Loss Function** does !\n",
    "\n",
    "And PyTorch calculates the derivatives of the loss with respect to all the learnable parameters during the Back-Propagation, which is later used by an **Optimizer** to update all the parameters of the model, improving the model after every epoch.\n",
    "\n",
    "By the way, one **epoch** is when the entire dataset is passed both forward and backward through the Neural Network only once."
   ]
  },
  {
   "cell_type": "code",
   "execution_count": 7,
   "metadata": {},
   "outputs": [],
   "source": [
    "# Defining the Loss Function\n",
    "# Mean Squared Error is the most common choice of Loss Function for Linear Regression models.\n",
    "criterion = torch.nn.MSELoss()\n",
    "\n",
    "# Defining the Optimizer, which would update all the trainable parameters of the model, making the model learn the data distribution better and hence fit the distribution better.\n",
    "optimizer = torch.optim.Adam(model.parameters(), lr = 0.0005) "
   ]
  },
  {
   "cell_type": "code",
   "execution_count": 8,
   "metadata": {},
   "outputs": [],
   "source": [
    "# We also need to convert all the data into tensors before we could use them for training our model.\n",
    "data_x = torch.tensor([[x] for x in x_list], dtype = torch.float)\n",
    "data_y = torch.tensor([[y] for y in y_list], dtype = torch.float)"
   ]
  },
  {
   "cell_type": "markdown",
   "metadata": {},
   "source": [
    "## STEP 4: Training the Model and Plotting the Loss"
   ]
  },
  {
   "cell_type": "code",
   "execution_count": 9,
   "metadata": {},
   "outputs": [
    {
     "name": "stdout",
     "output_type": "stream",
     "text": [
      "\n",
      "TRAINING...\n",
      "loss:  290066.9375\n",
      "loss:  233668.875\n",
      "loss:  186075.625\n",
      "loss:  146441.828125\n",
      "loss:  113859.40625\n",
      "loss:  87455.7265625\n",
      "loss:  66397.1875\n",
      "loss:  49895.44140625\n",
      "loss:  37213.265625\n",
      "loss:  27672.890625\n",
      "loss:  20661.083984375\n",
      "loss:  15636.8427734375\n",
      "loss:  12134.056640625\n",
      "loss:  9762.8232421875\n",
      "loss:  8207.25390625\n",
      "loss:  7220.21630859375\n",
      "loss:  6615.59326171875\n",
      "loss:  6258.6826171875\n",
      "loss:  6055.97216796875\n",
      "loss:  5945.3681640625\n",
      "loss:  5887.44677734375\n",
      "loss:  5858.3232421875\n",
      "loss:  5844.21875\n",
      "loss:  5837.568359375\n",
      "loss:  5834.42822265625\n",
      "\n",
      "Compare the learnt parameters with the original ones\n",
      "\n",
      "m_synthetic     VS     m_learnt\n",
      "     -0.67                   -0.6612429618835449\n",
      "\n",
      "c_synthetic     VS     c_learnt\n",
      "     6                   0.3956650197505951\n"
     ]
    },
    {
     "data": {
      "image/png": "[encoded data removed]",
      "text/plain": [
       "<Figure size 432x288 with 1 Axes>"
      ]
     },
     "metadata": {
      "needs_background": "light"
     },
     "output_type": "display_data"
    }
   ],
   "source": [
    "losses = []         # to keep track of the epoch lossese \n",
    "slope_list = []     # to keep track of the slope learnt by the model\n",
    "intercept_list = [] # to keep track of the intercept learnt by the model\n",
    "\n",
    "EPOCHS = 2500\n",
    "print('\\nTRAINING...')\n",
    "for epoch in range(EPOCHS):\n",
    "    # We need to clear the gradients of the optimizer before running the back-propagation in PyTorch\n",
    "    optimizer.zero_grad() \n",
    "    \n",
    "    # Feeding the input data in the model and getting out the predictions\n",
    "    pred_y = model(data_x)\n",
    "\n",
    "    # Calculating the loss using the model's predictions and the real y values\n",
    "    loss = criterion(pred_y, data_y) \n",
    "\n",
    "    # Back-Propagation\n",
    "    loss.backward() \n",
    "    \n",
    "    # Updating all the trainable parameters\n",
    "    optimizer.step()\n",
    "    \n",
    "    # Appending the loss.item() (a scalar value)\n",
    "    losses.append(loss.item())\n",
    "    \n",
    "    # Appending the learnt slope and intercept   \n",
    "    slope_list.append(model.linear.weight.item())\n",
    "    intercept_list.append(model.linear.bias.item())\n",
    "    \n",
    "    # We print out the losses after every 2000 epochs\n",
    "    if (epoch)%100 == 0:\n",
    "        print('loss: ', loss.item())\n",
    "\n",
    "# Let's see what are the learnt parameters after having trained the model for hundreds of epochs\n",
    "m_learnt = model.linear.weight.item()\n",
    "c_learnt = model.linear.bias.item()\n",
    "\n",
    "print('\\nCompare the learnt parameters with the original ones')\n",
    "print('\\nm_synthetic     VS     m_learnt')\n",
    "print('     {}                   {}'.format(m_synthetic, m_learnt))\n",
    "print('\\nc_synthetic     VS     c_learnt')\n",
    "print('     {}                   {}'.format(c_synthetic, c_learnt))\n",
    "\n",
    "# Plotting the epoch losses\n",
    "plt.plot(losses)\n",
    "plt.title('Loss VS Epoch')\n",
    "plt.xlabel('#Epoch')\n",
    "plt.ylabel('Loss')\n",
    "plt.savefig('losses.jpg')"
   ]
  },
  {
   "cell_type": "markdown",
   "metadata": {},
   "source": [
    "We see the loss coming down after every epoch. That's always a good sight for a Deep Learning practitioner :D "
   ]
  },
  {
   "cell_type": "markdown",
   "metadata": {},
   "source": [
    "## STEP 5: Visualizing the Line Learnt by the Model"
   ]
  },
  {
   "cell_type": "code",
   "execution_count": 10,
   "metadata": {},
   "outputs": [
    {
     "data": {
      "image/png": "[encoded data removed]",
      "text/plain": [
       "<Figure size 432x288 with 1 Axes>"
      ]
     },
     "metadata": {
      "needs_background": "light"
     },
     "output_type": "display_data"
    }
   ],
   "source": [
    "plt.scatter(x_list, y_list , color = 'cyan')\n",
    "plt.plot((x_min, x_max), (m_learnt*x_min + c_learnt, m_learnt*x_max + c_learnt), color = 'r')\n",
    "plt.title('Synthetic Data Points, with m = {} and c = {}'.format(round(m_learnt, 2), round(c_learnt, 2)))\n",
    "plt.xlabel(\"Independent Variable 'x'\")\n",
    "plt.ylabel(\"Dependent Variable 'y'\")\n",
    "plt.savefig('learnt_m_and_c.jpg')"
   ]
  },
  {
   "cell_type": "markdown",
   "metadata": {},
   "source": [
    "Looks like the model has indeed fit a straight line on the given data distribution !!! "
   ]
  },
  {
   "cell_type": "markdown",
   "metadata": {},
   "source": [
    "## Slope and Intercept during the training of the model"
   ]
  },
  {
   "cell_type": "code",
   "execution_count": 11,
   "metadata": {},
   "outputs": [
    {
     "data": {
      "image/png": "[encoded data removed]",
      "text/plain": [
       "<Figure size 432x288 with 1 Axes>"
      ]
     },
     "metadata": {
      "needs_background": "light"
     },
     "output_type": "display_data"
    }
   ],
   "source": [
    "plt.plot(slope_list)\n",
    "plt.plot(intercept_list)\n",
    "plt.title('Learnt Values of Slope and Intercept')\n",
    "plt.legend(['slope', 'intercept'])\n",
    "plt.xlabel('#Epochs')\n",
    "plt.ylabel('Learnt Parameteres')\n",
    "plt.savefig('learning_m_and_c.jpg')"
   ]
  },
  {
   "cell_type": "markdown",
   "metadata": {},
   "source": [
    "We see that during the training phase of the model, the parameters of the model change and they approach to the value for which the overall loss of the model is minimum.\n",
    "\n",
    "This in fact, is the general idea behind any Deep Learning model. It tries to find the best suited parameters for the model, to perform a specific task, which is measured by using a suitable Loss Function for that specific task. "
   ]
  },
  {
   "cell_type": "markdown",
   "metadata": {},
   "source": [
    "### End.\n",
    "\n",
    "I hope that you understood the basic ideas behind solving a Linear Regression problem using PyTorch.\n",
    "\n",
    "This was a very simple example of solving a linear regression problem in 1 variable or a Univariate Regression problem. But we can even solve Multivariate Regression problems using a similar approach.\n",
    "\n",
    "I hope that you enjoyed this tutorial ! :D\n",
    "\n",
    "Check out the following links-\n",
    "\n",
    "Blog on Medium: https://medium.com/@animesh7pointer/fitting-a-straight-line-on-2d-data-in-pytorch-78d0e3450876\n",
    "\n",
    "Github Repository: https://github.com/n0obcoder/Fitting-a-Straight-Line-on-2D-Data-in-PyTorch"
   ]
  }
 ],
 "metadata": {
  "kernelspec": {
   "display_name": "Python 3",
   "language": "python",
   "name": "python3"
  },
  "language_info": {
   "codemirror_mode": {
    "name": "ipython",
    "version": 3
   },
   "file_extension": ".py",
   "mimetype": "text/x-python",
   "name": "python",
   "nbconvert_exporter": "python",
   "pygments_lexer": "ipython3",
   "version": "3.6.6"
  }
 },
 "nbformat": 4,
 "nbformat_minor": 1
}
